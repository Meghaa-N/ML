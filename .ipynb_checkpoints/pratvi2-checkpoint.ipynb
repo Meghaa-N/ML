{
 "cells": [
  {
   "cell_type": "code",
   "execution_count": 1,
   "metadata": {},
   "outputs": [],
   "source": [
    "import pandas as pd\n",
    "import numpy as np\n",
    "import seaborn as sns\n",
    "import matplotlib.pyplot as plt\n",
    "import matplotlib.lines as mlines\n",
    "%matplotlib inline\n",
    "from sklearn.preprocessing import LabelEncoder\n",
    "from sklearn.preprocessing import OneHotEncoder\n",
    "from sklearn.preprocessing import RobustScaler\n",
    "from sklearn.preprocessing import MinMaxScaler\n",
    "from sklearn.compose import ColumnTransformer \n",
    "from sklearn.compose import make_column_transformer\n",
    "from sklearn.linear_model import LinearRegression\n",
    "from sklearn.neighbors import KNeighborsRegressor\n",
    "from sklearn.svm import SVR\n",
    "from sklearn.tree import DecisionTreeRegressor\n",
    "import xgboost as xgb\n",
    "from sklearn.model_selection import train_test_split\n",
    "from sklearn.metrics import r2_score\n",
    "from sklearn.metrics import mean_squared_error\n",
    "from sklearn.model_selection import cross_val_score\n",
    "import warnings\n",
    "warnings.simplefilter(action='ignore', category=FutureWarning)"
   ]
  },
  {
   "cell_type": "code",
   "execution_count": 2,
   "metadata": {},
   "outputs": [
    {
     "data": {
      "text/html": [
       "<div>\n",
       "<style scoped>\n",
       "    .dataframe tbody tr th:only-of-type {\n",
       "        vertical-align: middle;\n",
       "    }\n",
       "\n",
       "    .dataframe tbody tr th {\n",
       "        vertical-align: top;\n",
       "    }\n",
       "\n",
       "    .dataframe thead th {\n",
       "        text-align: right;\n",
       "    }\n",
       "</style>\n",
       "<table border=\"1\" class=\"dataframe\">\n",
       "  <thead>\n",
       "    <tr style=\"text-align: right;\">\n",
       "      <th></th>\n",
       "      <th>Name</th>\n",
       "      <th>Location</th>\n",
       "      <th>Year</th>\n",
       "      <th>Kilometers_Driven</th>\n",
       "      <th>Fuel_Type</th>\n",
       "      <th>Transmission</th>\n",
       "      <th>Owner_Type</th>\n",
       "      <th>Mileage</th>\n",
       "      <th>Engine</th>\n",
       "      <th>Power</th>\n",
       "      <th>Seats</th>\n",
       "      <th>Price</th>\n",
       "    </tr>\n",
       "  </thead>\n",
       "  <tbody>\n",
       "    <tr>\n",
       "      <th>0</th>\n",
       "      <td>Maruti Wagon R LXI CNG</td>\n",
       "      <td>Mumbai</td>\n",
       "      <td>2010</td>\n",
       "      <td>72000</td>\n",
       "      <td>CNG</td>\n",
       "      <td>Manual</td>\n",
       "      <td>First</td>\n",
       "      <td>26.6 km/kg</td>\n",
       "      <td>998 CC</td>\n",
       "      <td>58.16 bhp</td>\n",
       "      <td>5.0</td>\n",
       "      <td>1.75</td>\n",
       "    </tr>\n",
       "    <tr>\n",
       "      <th>1</th>\n",
       "      <td>Hyundai Creta 1.6 CRDi SX Option</td>\n",
       "      <td>Pune</td>\n",
       "      <td>2015</td>\n",
       "      <td>41000</td>\n",
       "      <td>Diesel</td>\n",
       "      <td>Manual</td>\n",
       "      <td>First</td>\n",
       "      <td>19.67 kmpl</td>\n",
       "      <td>1582 CC</td>\n",
       "      <td>126.2 bhp</td>\n",
       "      <td>5.0</td>\n",
       "      <td>12.50</td>\n",
       "    </tr>\n",
       "    <tr>\n",
       "      <th>2</th>\n",
       "      <td>Honda Jazz V</td>\n",
       "      <td>Chennai</td>\n",
       "      <td>2011</td>\n",
       "      <td>46000</td>\n",
       "      <td>Petrol</td>\n",
       "      <td>Manual</td>\n",
       "      <td>First</td>\n",
       "      <td>18.2 kmpl</td>\n",
       "      <td>1199 CC</td>\n",
       "      <td>88.7 bhp</td>\n",
       "      <td>5.0</td>\n",
       "      <td>4.50</td>\n",
       "    </tr>\n",
       "    <tr>\n",
       "      <th>3</th>\n",
       "      <td>Maruti Ertiga VDI</td>\n",
       "      <td>Chennai</td>\n",
       "      <td>2012</td>\n",
       "      <td>87000</td>\n",
       "      <td>Diesel</td>\n",
       "      <td>Manual</td>\n",
       "      <td>First</td>\n",
       "      <td>20.77 kmpl</td>\n",
       "      <td>1248 CC</td>\n",
       "      <td>88.76 bhp</td>\n",
       "      <td>7.0</td>\n",
       "      <td>6.00</td>\n",
       "    </tr>\n",
       "    <tr>\n",
       "      <th>4</th>\n",
       "      <td>Audi A4 New 2.0 TDI Multitronic</td>\n",
       "      <td>Coimbatore</td>\n",
       "      <td>2013</td>\n",
       "      <td>40670</td>\n",
       "      <td>Diesel</td>\n",
       "      <td>Automatic</td>\n",
       "      <td>Second</td>\n",
       "      <td>15.2 kmpl</td>\n",
       "      <td>1968 CC</td>\n",
       "      <td>140.8 bhp</td>\n",
       "      <td>5.0</td>\n",
       "      <td>17.74</td>\n",
       "    </tr>\n",
       "  </tbody>\n",
       "</table>\n",
       "</div>"
      ],
      "text/plain": [
       "                               Name    Location  Year  Kilometers_Driven  \\\n",
       "0            Maruti Wagon R LXI CNG      Mumbai  2010              72000   \n",
       "1  Hyundai Creta 1.6 CRDi SX Option        Pune  2015              41000   \n",
       "2                      Honda Jazz V     Chennai  2011              46000   \n",
       "3                 Maruti Ertiga VDI     Chennai  2012              87000   \n",
       "4   Audi A4 New 2.0 TDI Multitronic  Coimbatore  2013              40670   \n",
       "\n",
       "  Fuel_Type Transmission Owner_Type     Mileage   Engine      Power  Seats  \\\n",
       "0       CNG       Manual      First  26.6 km/kg   998 CC  58.16 bhp    5.0   \n",
       "1    Diesel       Manual      First  19.67 kmpl  1582 CC  126.2 bhp    5.0   \n",
       "2    Petrol       Manual      First   18.2 kmpl  1199 CC   88.7 bhp    5.0   \n",
       "3    Diesel       Manual      First  20.77 kmpl  1248 CC  88.76 bhp    7.0   \n",
       "4    Diesel    Automatic     Second   15.2 kmpl  1968 CC  140.8 bhp    5.0   \n",
       "\n",
       "   Price  \n",
       "0   1.75  \n",
       "1  12.50  \n",
       "2   4.50  \n",
       "3   6.00  \n",
       "4  17.74  "
      ]
     },
     "execution_count": 2,
     "metadata": {},
     "output_type": "execute_result"
    }
   ],
   "source": [
    "dt=pd.read_excel(\"Data_train.xlsx\")\n",
    "dt.head()"
   ]
  },
  {
   "cell_type": "code",
   "execution_count": 3,
   "metadata": {
    "scrolled": true
   },
   "outputs": [
    {
     "data": {
      "text/html": [
       "<div>\n",
       "<style scoped>\n",
       "    .dataframe tbody tr th:only-of-type {\n",
       "        vertical-align: middle;\n",
       "    }\n",
       "\n",
       "    .dataframe tbody tr th {\n",
       "        vertical-align: top;\n",
       "    }\n",
       "\n",
       "    .dataframe thead th {\n",
       "        text-align: right;\n",
       "    }\n",
       "</style>\n",
       "<table border=\"1\" class=\"dataframe\">\n",
       "  <thead>\n",
       "    <tr style=\"text-align: right;\">\n",
       "      <th></th>\n",
       "      <th>Name</th>\n",
       "      <th>Location</th>\n",
       "      <th>Year</th>\n",
       "      <th>Kilometers_Driven</th>\n",
       "      <th>Fuel_Type</th>\n",
       "      <th>Transmission</th>\n",
       "      <th>Owner_Type</th>\n",
       "      <th>Mileage</th>\n",
       "      <th>Engine</th>\n",
       "      <th>Power</th>\n",
       "      <th>Seats</th>\n",
       "      <th>Price</th>\n",
       "      <th>Brand</th>\n",
       "      <th>Model</th>\n",
       "    </tr>\n",
       "  </thead>\n",
       "  <tbody>\n",
       "    <tr>\n",
       "      <th>0</th>\n",
       "      <td>Maruti Wagon R LXI CNG</td>\n",
       "      <td>Mumbai</td>\n",
       "      <td>10</td>\n",
       "      <td>72000</td>\n",
       "      <td>CNG</td>\n",
       "      <td>Manual</td>\n",
       "      <td>First</td>\n",
       "      <td>26.6</td>\n",
       "      <td>998</td>\n",
       "      <td>58.16</td>\n",
       "      <td>5.0</td>\n",
       "      <td>1.75</td>\n",
       "      <td>Maruti</td>\n",
       "      <td>Wagon R LXI CNG</td>\n",
       "    </tr>\n",
       "    <tr>\n",
       "      <th>1</th>\n",
       "      <td>Hyundai Creta 1.6 CRDi SX Option</td>\n",
       "      <td>Pune</td>\n",
       "      <td>5</td>\n",
       "      <td>41000</td>\n",
       "      <td>Diesel</td>\n",
       "      <td>Manual</td>\n",
       "      <td>First</td>\n",
       "      <td>19.67</td>\n",
       "      <td>1582</td>\n",
       "      <td>126.2</td>\n",
       "      <td>5.0</td>\n",
       "      <td>12.50</td>\n",
       "      <td>Hyundai</td>\n",
       "      <td>Creta 1.6 CRDi SX Option</td>\n",
       "    </tr>\n",
       "    <tr>\n",
       "      <th>2</th>\n",
       "      <td>Honda Jazz V</td>\n",
       "      <td>Chennai</td>\n",
       "      <td>9</td>\n",
       "      <td>46000</td>\n",
       "      <td>Petrol</td>\n",
       "      <td>Manual</td>\n",
       "      <td>First</td>\n",
       "      <td>18.2</td>\n",
       "      <td>1199</td>\n",
       "      <td>88.7</td>\n",
       "      <td>5.0</td>\n",
       "      <td>4.50</td>\n",
       "      <td>Honda</td>\n",
       "      <td>Jazz V</td>\n",
       "    </tr>\n",
       "    <tr>\n",
       "      <th>3</th>\n",
       "      <td>Maruti Ertiga VDI</td>\n",
       "      <td>Chennai</td>\n",
       "      <td>8</td>\n",
       "      <td>87000</td>\n",
       "      <td>Diesel</td>\n",
       "      <td>Manual</td>\n",
       "      <td>First</td>\n",
       "      <td>20.77</td>\n",
       "      <td>1248</td>\n",
       "      <td>88.76</td>\n",
       "      <td>7.0</td>\n",
       "      <td>6.00</td>\n",
       "      <td>Maruti</td>\n",
       "      <td>Ertiga VDI</td>\n",
       "    </tr>\n",
       "    <tr>\n",
       "      <th>4</th>\n",
       "      <td>Audi A4 New 2.0 TDI Multitronic</td>\n",
       "      <td>Coimbatore</td>\n",
       "      <td>7</td>\n",
       "      <td>40670</td>\n",
       "      <td>Diesel</td>\n",
       "      <td>Automatic</td>\n",
       "      <td>Second</td>\n",
       "      <td>15.2</td>\n",
       "      <td>1968</td>\n",
       "      <td>140.8</td>\n",
       "      <td>5.0</td>\n",
       "      <td>17.74</td>\n",
       "      <td>Audi</td>\n",
       "      <td>A4 New 2.0 TDI Multitronic</td>\n",
       "    </tr>\n",
       "  </tbody>\n",
       "</table>\n",
       "</div>"
      ],
      "text/plain": [
       "                               Name    Location  Year  Kilometers_Driven  \\\n",
       "0            Maruti Wagon R LXI CNG      Mumbai    10              72000   \n",
       "1  Hyundai Creta 1.6 CRDi SX Option        Pune     5              41000   \n",
       "2                      Honda Jazz V     Chennai     9              46000   \n",
       "3                 Maruti Ertiga VDI     Chennai     8              87000   \n",
       "4   Audi A4 New 2.0 TDI Multitronic  Coimbatore     7              40670   \n",
       "\n",
       "  Fuel_Type Transmission Owner_Type Mileage Engine  Power  Seats  Price  \\\n",
       "0       CNG       Manual      First    26.6    998  58.16    5.0   1.75   \n",
       "1    Diesel       Manual      First   19.67   1582  126.2    5.0  12.50   \n",
       "2    Petrol       Manual      First    18.2   1199   88.7    5.0   4.50   \n",
       "3    Diesel       Manual      First   20.77   1248  88.76    7.0   6.00   \n",
       "4    Diesel    Automatic     Second    15.2   1968  140.8    5.0  17.74   \n",
       "\n",
       "     Brand                       Model  \n",
       "0   Maruti             Wagon R LXI CNG  \n",
       "1  Hyundai    Creta 1.6 CRDi SX Option  \n",
       "2    Honda                      Jazz V  \n",
       "3   Maruti                  Ertiga VDI  \n",
       "4     Audi  A4 New 2.0 TDI Multitronic  "
      ]
     },
     "execution_count": 3,
     "metadata": {},
     "output_type": "execute_result"
    }
   ],
   "source": [
    "temp = dt[\"Name\"].str.split(\" \", n = 1, expand = True)\n",
    "dt['Brand']=temp[0]\n",
    "dt['Model']=temp[1]\n",
    "dt['Engine']=dt.Engine.str.split(\" \").str[0]\n",
    "dt['Power']=dt.Power.str.split(\" \").str[0]\n",
    "dt['Mileage']=dt.Mileage.str.split(\" \").str[0]\n",
    "dt['Year']=np.subtract(2020,dt['Year'])\n",
    "\n",
    "dt.head()"
   ]
  },
  {
   "cell_type": "code",
   "execution_count": 4,
   "metadata": {
    "scrolled": true
   },
   "outputs": [
    {
     "data": {
      "text/plain": [
       "Name                  object\n",
       "Location              object\n",
       "Year                   int64\n",
       "Kilometers_Driven      int64\n",
       "Fuel_Type             object\n",
       "Transmission          object\n",
       "Owner_Type            object\n",
       "Mileage               object\n",
       "Engine                object\n",
       "Power                 object\n",
       "Seats                float64\n",
       "Price                float64\n",
       "Brand                 object\n",
       "Model                 object\n",
       "dtype: object"
      ]
     },
     "execution_count": 4,
     "metadata": {},
     "output_type": "execute_result"
    }
   ],
   "source": [
    "dt.dtypes"
   ]
  },
  {
   "cell_type": "code",
   "execution_count": 5,
   "metadata": {},
   "outputs": [],
   "source": [
    "dt['Power'].replace('null ',float('NaN'),inplace=True)\n",
    "dt['Power'].replace('null',float('NaN'),inplace=True)\n"
   ]
  },
  {
   "cell_type": "code",
   "execution_count": 6,
   "metadata": {
    "scrolled": true
   },
   "outputs": [
    {
     "name": "stdout",
     "output_type": "stream",
     "text": [
      "Name                 0\n",
      "Location             0\n",
      "Year                 0\n",
      "Kilometers_Driven    0\n",
      "Fuel_Type            0\n",
      "Transmission         0\n",
      "Owner_Type           0\n",
      "Mileage              0\n",
      "Engine               0\n",
      "Power                0\n",
      "Seats                0\n",
      "Price                0\n",
      "Brand                0\n",
      "Model                0\n",
      "dtype: int64\n",
      "              Year  Kilometers_Driven        Seats        Price\n",
      "count  5872.000000       5.872000e+03  5872.000000  5872.000000\n",
      "mean      6.522309       5.831700e+04     5.283719     9.603919\n",
      "std       3.164568       9.216941e+04     0.805081    11.249453\n",
      "min       1.000000       1.710000e+02     2.000000     0.440000\n",
      "25%       4.000000       3.342250e+04     5.000000     3.517500\n",
      "50%       6.000000       5.260900e+04     5.000000     5.750000\n",
      "75%       8.000000       7.240275e+04     5.000000    10.000000\n",
      "max      22.000000       6.500000e+06    10.000000   160.000000\n",
      "                               Name    Location  Year  Kilometers_Driven  \\\n",
      "0            Maruti Wagon R LXI CNG      Mumbai    10              72000   \n",
      "1  Hyundai Creta 1.6 CRDi SX Option        Pune     5              41000   \n",
      "2                      Honda Jazz V     Chennai     9              46000   \n",
      "3                 Maruti Ertiga VDI     Chennai     8              87000   \n",
      "4   Audi A4 New 2.0 TDI Multitronic  Coimbatore     7              40670   \n",
      "\n",
      "  Fuel_Type Transmission Owner_Type Mileage Engine  Power  Seats  Price  \\\n",
      "0       CNG       Manual      First    26.6    998  58.16    5.0   1.75   \n",
      "1    Diesel       Manual      First   19.67   1582  126.2    5.0  12.50   \n",
      "2    Petrol       Manual      First    18.2   1199   88.7    5.0   4.50   \n",
      "3    Diesel       Manual      First   20.77   1248  88.76    7.0   6.00   \n",
      "4    Diesel    Automatic     Second    15.2   1968  140.8    5.0  17.74   \n",
      "\n",
      "     Brand                       Model  \n",
      "0   Maruti             Wagon R LXI CNG  \n",
      "1  Hyundai    Creta 1.6 CRDi SX Option  \n",
      "2    Honda                      Jazz V  \n",
      "3   Maruti                  Ertiga VDI  \n",
      "4     Audi  A4 New 2.0 TDI Multitronic  \n"
     ]
    }
   ],
   "source": [
    "dt.dropna(subset=['Mileage','Power','Engine','Seats'],inplace=True)\n",
    "print(dt.isnull().sum())\n",
    "print(dt.describe())\n",
    "print(dt.head())\n"
   ]
  },
  {
   "cell_type": "code",
   "execution_count": 7,
   "metadata": {},
   "outputs": [
    {
     "data": {
      "text/plain": [
       "(5872, 14)"
      ]
     },
     "execution_count": 7,
     "metadata": {},
     "output_type": "execute_result"
    }
   ],
   "source": [
    "dt.shape"
   ]
  },
  {
   "cell_type": "code",
   "execution_count": 8,
   "metadata": {},
   "outputs": [
    {
     "data": {
      "text/html": [
       "<div>\n",
       "<style scoped>\n",
       "    .dataframe tbody tr th:only-of-type {\n",
       "        vertical-align: middle;\n",
       "    }\n",
       "\n",
       "    .dataframe tbody tr th {\n",
       "        vertical-align: top;\n",
       "    }\n",
       "\n",
       "    .dataframe thead th {\n",
       "        text-align: right;\n",
       "    }\n",
       "</style>\n",
       "<table border=\"1\" class=\"dataframe\">\n",
       "  <thead>\n",
       "    <tr style=\"text-align: right;\">\n",
       "      <th></th>\n",
       "      <th>Location</th>\n",
       "      <th>Year</th>\n",
       "      <th>Kilometers_Driven</th>\n",
       "      <th>Fuel_Type</th>\n",
       "      <th>Transmission</th>\n",
       "      <th>Owner_Type</th>\n",
       "      <th>Mileage</th>\n",
       "      <th>Engine</th>\n",
       "      <th>Power</th>\n",
       "      <th>Seats</th>\n",
       "      <th>Price</th>\n",
       "      <th>Brand</th>\n",
       "      <th>Model</th>\n",
       "    </tr>\n",
       "  </thead>\n",
       "  <tbody>\n",
       "    <tr>\n",
       "      <th>0</th>\n",
       "      <td>Mumbai</td>\n",
       "      <td>10</td>\n",
       "      <td>72000</td>\n",
       "      <td>CNG</td>\n",
       "      <td>Manual</td>\n",
       "      <td>First</td>\n",
       "      <td>26.6</td>\n",
       "      <td>998</td>\n",
       "      <td>58.16</td>\n",
       "      <td>5.0</td>\n",
       "      <td>1.75</td>\n",
       "      <td>Maruti</td>\n",
       "      <td>Wagon R LXI CNG</td>\n",
       "    </tr>\n",
       "    <tr>\n",
       "      <th>1</th>\n",
       "      <td>Pune</td>\n",
       "      <td>5</td>\n",
       "      <td>41000</td>\n",
       "      <td>Diesel</td>\n",
       "      <td>Manual</td>\n",
       "      <td>First</td>\n",
       "      <td>19.67</td>\n",
       "      <td>1582</td>\n",
       "      <td>126.2</td>\n",
       "      <td>5.0</td>\n",
       "      <td>12.50</td>\n",
       "      <td>Hyundai</td>\n",
       "      <td>Creta 1.6 CRDi SX Option</td>\n",
       "    </tr>\n",
       "    <tr>\n",
       "      <th>2</th>\n",
       "      <td>Chennai</td>\n",
       "      <td>9</td>\n",
       "      <td>46000</td>\n",
       "      <td>Petrol</td>\n",
       "      <td>Manual</td>\n",
       "      <td>First</td>\n",
       "      <td>18.2</td>\n",
       "      <td>1199</td>\n",
       "      <td>88.7</td>\n",
       "      <td>5.0</td>\n",
       "      <td>4.50</td>\n",
       "      <td>Honda</td>\n",
       "      <td>Jazz V</td>\n",
       "    </tr>\n",
       "    <tr>\n",
       "      <th>3</th>\n",
       "      <td>Chennai</td>\n",
       "      <td>8</td>\n",
       "      <td>87000</td>\n",
       "      <td>Diesel</td>\n",
       "      <td>Manual</td>\n",
       "      <td>First</td>\n",
       "      <td>20.77</td>\n",
       "      <td>1248</td>\n",
       "      <td>88.76</td>\n",
       "      <td>7.0</td>\n",
       "      <td>6.00</td>\n",
       "      <td>Maruti</td>\n",
       "      <td>Ertiga VDI</td>\n",
       "    </tr>\n",
       "    <tr>\n",
       "      <th>4</th>\n",
       "      <td>Coimbatore</td>\n",
       "      <td>7</td>\n",
       "      <td>40670</td>\n",
       "      <td>Diesel</td>\n",
       "      <td>Automatic</td>\n",
       "      <td>Second</td>\n",
       "      <td>15.2</td>\n",
       "      <td>1968</td>\n",
       "      <td>140.8</td>\n",
       "      <td>5.0</td>\n",
       "      <td>17.74</td>\n",
       "      <td>Audi</td>\n",
       "      <td>A4 New 2.0 TDI Multitronic</td>\n",
       "    </tr>\n",
       "  </tbody>\n",
       "</table>\n",
       "</div>"
      ],
      "text/plain": [
       "     Location  Year  Kilometers_Driven Fuel_Type Transmission Owner_Type  \\\n",
       "0      Mumbai    10              72000       CNG       Manual      First   \n",
       "1        Pune     5              41000    Diesel       Manual      First   \n",
       "2     Chennai     9              46000    Petrol       Manual      First   \n",
       "3     Chennai     8              87000    Diesel       Manual      First   \n",
       "4  Coimbatore     7              40670    Diesel    Automatic     Second   \n",
       "\n",
       "  Mileage Engine  Power  Seats  Price    Brand                       Model  \n",
       "0    26.6    998  58.16    5.0   1.75   Maruti             Wagon R LXI CNG  \n",
       "1   19.67   1582  126.2    5.0  12.50  Hyundai    Creta 1.6 CRDi SX Option  \n",
       "2    18.2   1199   88.7    5.0   4.50    Honda                      Jazz V  \n",
       "3   20.77   1248  88.76    7.0   6.00   Maruti                  Ertiga VDI  \n",
       "4    15.2   1968  140.8    5.0  17.74     Audi  A4 New 2.0 TDI Multitronic  "
      ]
     },
     "execution_count": 8,
     "metadata": {},
     "output_type": "execute_result"
    }
   ],
   "source": [
    "dt.drop(columns=['Name'],inplace=True)\n",
    "dt.head()"
   ]
  },
  {
   "cell_type": "code",
   "execution_count": 9,
   "metadata": {},
   "outputs": [
    {
     "data": {
      "text/plain": [
       "Location              object\n",
       "Year                 float64\n",
       "Kilometers_Driven    float64\n",
       "Fuel_Type             object\n",
       "Transmission          object\n",
       "Owner_Type            object\n",
       "Mileage              float64\n",
       "Engine               float64\n",
       "Power                float64\n",
       "Seats                float64\n",
       "Price                float64\n",
       "Brand                 object\n",
       "Model                 object\n",
       "dtype: object"
      ]
     },
     "execution_count": 9,
     "metadata": {},
     "output_type": "execute_result"
    }
   ],
   "source": [
    "dt.dropna(how=\"all\",inplace=True)\n",
    "dt['Power']=dt['Power'].astype(float)\n",
    "dt['Mileage']=dt['Mileage'].astype(float)\n",
    "dt['Engine']=dt['Engine'].astype(float)\n",
    "dt['Year']=dt['Year'].astype(float)\n",
    "dt['Kilometers_Driven']=dt['Kilometers_Driven'].astype(float)\n",
    "\n",
    "\n",
    "dt.dtypes"
   ]
  },
  {
   "cell_type": "code",
   "execution_count": 10,
   "metadata": {},
   "outputs": [],
   "source": [
    "col=['Year','Mileage','Engine','Power','Kilometers_Driven','Price']\n",
    "for i in col:\n",
    "    Q1 = dt['{}'.format(i)].quantile(0.25)\n",
    "    Q3 = dt['{}'.format(i)].quantile(0.75)\n",
    "    IQR = Q3 - Q1\n",
    "    m1=Q1 - (1.5 * IQR)\n",
    "    m2=Q3 + (1.5 * IQR)\n",
    "    k2=dt.loc[dt['{}'.format(i)]>=m2, '{}'.format(i)].median()\n",
    "    k1=dt.loc[dt['{}'.format(i)]<=m1, '{}'.format(i)].median()\n",
    "    dt.loc[dt['{}'.format(i)]>=m2, '{}'.format(i)]=k2\n",
    "    dt.loc[dt['{}'.format(i)]<=m1, '{}'.format(i)]=k1"
   ]
  },
  {
   "cell_type": "code",
   "execution_count": 11,
   "metadata": {},
   "outputs": [
    {
     "data": {
      "text/html": [
       "<div>\n",
       "<style scoped>\n",
       "    .dataframe tbody tr th:only-of-type {\n",
       "        vertical-align: middle;\n",
       "    }\n",
       "\n",
       "    .dataframe tbody tr th {\n",
       "        vertical-align: top;\n",
       "    }\n",
       "\n",
       "    .dataframe thead th {\n",
       "        text-align: right;\n",
       "    }\n",
       "</style>\n",
       "<table border=\"1\" class=\"dataframe\">\n",
       "  <thead>\n",
       "    <tr style=\"text-align: right;\">\n",
       "      <th></th>\n",
       "      <th>Location</th>\n",
       "      <th>Year</th>\n",
       "      <th>Kilometers_Driven</th>\n",
       "      <th>Fuel_Type</th>\n",
       "      <th>Transmission</th>\n",
       "      <th>Owner_Type</th>\n",
       "      <th>Mileage</th>\n",
       "      <th>Engine</th>\n",
       "      <th>Power</th>\n",
       "      <th>Seats</th>\n",
       "      <th>Price</th>\n",
       "      <th>Brand</th>\n",
       "      <th>Model</th>\n",
       "    </tr>\n",
       "  </thead>\n",
       "  <tbody>\n",
       "    <tr>\n",
       "      <th>0</th>\n",
       "      <td>9.0</td>\n",
       "      <td>10.0</td>\n",
       "      <td>72000.0</td>\n",
       "      <td>0.0</td>\n",
       "      <td>1.0</td>\n",
       "      <td>0.0</td>\n",
       "      <td>26.60</td>\n",
       "      <td>998.0</td>\n",
       "      <td>58.16</td>\n",
       "      <td>5.0</td>\n",
       "      <td>1.75</td>\n",
       "      <td>18.0</td>\n",
       "      <td>1579.0</td>\n",
       "    </tr>\n",
       "    <tr>\n",
       "      <th>1</th>\n",
       "      <td>10.0</td>\n",
       "      <td>5.0</td>\n",
       "      <td>41000.0</td>\n",
       "      <td>1.0</td>\n",
       "      <td>1.0</td>\n",
       "      <td>0.0</td>\n",
       "      <td>19.67</td>\n",
       "      <td>1582.0</td>\n",
       "      <td>126.20</td>\n",
       "      <td>5.0</td>\n",
       "      <td>12.50</td>\n",
       "      <td>10.0</td>\n",
       "      <td>450.0</td>\n",
       "    </tr>\n",
       "    <tr>\n",
       "      <th>2</th>\n",
       "      <td>2.0</td>\n",
       "      <td>9.0</td>\n",
       "      <td>46000.0</td>\n",
       "      <td>3.0</td>\n",
       "      <td>1.0</td>\n",
       "      <td>0.0</td>\n",
       "      <td>18.20</td>\n",
       "      <td>1199.0</td>\n",
       "      <td>88.70</td>\n",
       "      <td>5.0</td>\n",
       "      <td>4.50</td>\n",
       "      <td>9.0</td>\n",
       "      <td>889.0</td>\n",
       "    </tr>\n",
       "    <tr>\n",
       "      <th>3</th>\n",
       "      <td>2.0</td>\n",
       "      <td>8.0</td>\n",
       "      <td>87000.0</td>\n",
       "      <td>1.0</td>\n",
       "      <td>1.0</td>\n",
       "      <td>0.0</td>\n",
       "      <td>20.77</td>\n",
       "      <td>1248.0</td>\n",
       "      <td>88.76</td>\n",
       "      <td>7.0</td>\n",
       "      <td>6.00</td>\n",
       "      <td>18.0</td>\n",
       "      <td>606.0</td>\n",
       "    </tr>\n",
       "    <tr>\n",
       "      <th>4</th>\n",
       "      <td>3.0</td>\n",
       "      <td>7.0</td>\n",
       "      <td>40670.0</td>\n",
       "      <td>1.0</td>\n",
       "      <td>0.0</td>\n",
       "      <td>2.0</td>\n",
       "      <td>15.20</td>\n",
       "      <td>1968.0</td>\n",
       "      <td>140.80</td>\n",
       "      <td>5.0</td>\n",
       "      <td>17.74</td>\n",
       "      <td>1.0</td>\n",
       "      <td>93.0</td>\n",
       "    </tr>\n",
       "  </tbody>\n",
       "</table>\n",
       "</div>"
      ],
      "text/plain": [
       "   Location  Year  Kilometers_Driven  Fuel_Type  Transmission  Owner_Type  \\\n",
       "0       9.0  10.0            72000.0        0.0           1.0         0.0   \n",
       "1      10.0   5.0            41000.0        1.0           1.0         0.0   \n",
       "2       2.0   9.0            46000.0        3.0           1.0         0.0   \n",
       "3       2.0   8.0            87000.0        1.0           1.0         0.0   \n",
       "4       3.0   7.0            40670.0        1.0           0.0         2.0   \n",
       "\n",
       "   Mileage  Engine   Power  Seats  Price  Brand   Model  \n",
       "0    26.60   998.0   58.16    5.0   1.75   18.0  1579.0  \n",
       "1    19.67  1582.0  126.20    5.0  12.50   10.0   450.0  \n",
       "2    18.20  1199.0   88.70    5.0   4.50    9.0   889.0  \n",
       "3    20.77  1248.0   88.76    7.0   6.00   18.0   606.0  \n",
       "4    15.20  1968.0  140.80    5.0  17.74    1.0    93.0  "
      ]
     },
     "execution_count": 11,
     "metadata": {},
     "output_type": "execute_result"
    }
   ],
   "source": [
    "\n",
    "le=LabelEncoder()\n",
    "\n",
    "dt['Brand']=le.fit_transform(dt['Brand']).astype(float)\n",
    "dt['Location']=le.fit_transform(dt['Location']).astype(float)\n",
    "dt['Fuel_Type']=le.fit_transform(dt['Fuel_Type']).astype(float)\n",
    "dt['Transmission']=le.fit_transform(dt['Transmission']).astype(float)\n",
    "dt['Owner_Type']=le.fit_transform(dt['Owner_Type']).astype(float)\n",
    "dt['Model']=le.fit_transform(dt['Model']).astype(float)\n",
    "dt['Engine']=dt['Engine'].astype(float)\n",
    "dt['Power']=dt['Power'].astype(float)\n",
    "#dt.drop('Mileage',axis=1,inplace=True)\n",
    "#dt.drop('Name',axis=1,inplace=True)\n",
    "dt.head()\n",
    "\n"
   ]
  },
  {
   "cell_type": "code",
   "execution_count": 12,
   "metadata": {},
   "outputs": [],
   "source": [
    "\n",
    "#ohe=OneHotEncoder(sparse=False)\n",
    "#y=dt[\"Price\"]\n",
    "#dt.drop(columns=[\"Price\"],inplace=True)\n",
    "#column_trans=make_column_transformer((OneHotEncoder(),['Location','Fuel_Type','Transmission','Owner_Type','Model','Brand']),remainder='passthrough')\n",
    "#data=column_trans.fit_transform(dt)"
   ]
  },
  {
   "cell_type": "code",
   "execution_count": 13,
   "metadata": {},
   "outputs": [],
   "source": [
    "\n",
    "y=dt[\"Price\"]\n",
    "dt.drop(columns=[\"Price\"],inplace=True)\n",
    "col=dt.columns\n",
    "rbst=RobustScaler()\n",
    "data=pd.DataFrame(rbst.fit_transform(dt),columns=col)"
   ]
  },
  {
   "cell_type": "code",
   "execution_count": 14,
   "metadata": {},
   "outputs": [],
   "source": [
    "#dt[['Kilometers_Driven']]=rbst.fit_transform(dt[['Kilometers_Driven']])"
   ]
  },
  {
   "cell_type": "code",
   "execution_count": 15,
   "metadata": {},
   "outputs": [],
   "source": [
    "\n",
    "xtrain,xtest,ytrain,ytest=train_test_split(data,y,test_size=0.3)\n",
    "xtrain=xtrain.astype(np.float64)\n",
    "ytrain=ytrain.astype(np.float64)\n",
    "xtest=xtest.astype(np.float64)\n",
    "ytest=ytest.astype(np.float64)\n"
   ]
  },
  {
   "cell_type": "code",
   "execution_count": 16,
   "metadata": {},
   "outputs": [
    {
     "name": "stdout",
     "output_type": "stream",
     "text": [
      "0.7711842863642452\n",
      "linreg accuracy\n",
      "0.775545884292311\n"
     ]
    },
    {
     "data": {
      "image/png": "[encoded data removed]",
      "text/plain": [
       "<Figure size 432x288 with 1 Axes>"
      ]
     },
     "metadata": {
      "needs_background": "light"
     },
     "output_type": "display_data"
    }
   ],
   "source": [
    "linreg=LinearRegression()\n",
    "linreg.fit(xtrain,ytrain)\n",
    "pred=linreg.predict(xtest)\n",
    "print(r2_score(ytest,pred))\n",
    "print('linreg accuracy')\n",
    "s1=cross_val_score(linreg,xtrain,ytrain,cv=12)\n",
    "print(s1.mean())\n",
    "p1=sns.lineplot(ytest,pred)\n",
    "p1=sns.lineplot(ytest,ytest)\n"
   ]
  },
  {
   "cell_type": "code",
   "execution_count": 17,
   "metadata": {
    "scrolled": false
   },
   "outputs": [
    {
     "name": "stdout",
     "output_type": "stream",
     "text": [
      "0.8953594542300015\n",
      "knn accuracy\n",
      "0.8787586158836254\n"
     ]
    },
    {
     "data": {
      "image/png": "[encoded data removed]",
      "text/plain": [
       "<Figure size 432x288 with 1 Axes>"
      ]
     },
     "metadata": {
      "needs_background": "light"
     },
     "output_type": "display_data"
    }
   ],
   "source": [
    "model=KNeighborsRegressor(n_neighbors=7);\n",
    "model.fit(xtrain,ytrain);\n",
    "knn=model.predict(xtest)\n",
    "print(r2_score(ytest,knn))\n",
    "print('knn accuracy')\n",
    "s2=cross_val_score(model,xtrain,ytrain,cv=12)\n",
    "print(s2.mean())\n",
    "p2=sns.lineplot(ytest,knn)\n",
    "p2=sns.lineplot(ytest,ytest)\n",
    "\n"
   ]
  },
  {
   "cell_type": "code",
   "execution_count": 18,
   "metadata": {
    "scrolled": true
   },
   "outputs": [
    {
     "name": "stdout",
     "output_type": "stream",
     "text": [
      "0.9101417499528481\n",
      "svr accuracy\n",
      "0.8970857193536668\n"
     ]
    },
    {
     "data": {
      "image/png": "[encoded data removed]",
      "text/plain": [
       "<Figure size 432x288 with 1 Axes>"
      ]
     },
     "metadata": {
      "needs_background": "light"
     },
     "output_type": "display_data"
    }
   ],
   "source": [
    "sup=SVR(C=100)\n",
    "svr=sup.fit(xtrain,ytrain).predict(xtest)\n",
    "print(r2_score(ytest,svr))\n",
    "print('svr accuracy')\n",
    "s3=cross_val_score(sup,xtrain,ytrain,cv=10)\n",
    "print(s3.mean())\n",
    "p3=sns.lineplot(ytest,svr)\n",
    "p3=sns.lineplot(ytest,ytest)\n"
   ]
  },
  {
   "cell_type": "code",
   "execution_count": 19,
   "metadata": {},
   "outputs": [
    {
     "name": "stdout",
     "output_type": "stream",
     "text": [
      "0.8576077892546408\n",
      "dtr accuracy\n",
      "0.8579617823827889\n"
     ]
    },
    {
     "data": {
      "image/png": "[encoded data removed]",
      "text/plain": [
       "<Figure size 432x288 with 1 Axes>"
      ]
     },
     "metadata": {
      "needs_background": "light"
     },
     "output_type": "display_data"
    }
   ],
   "source": [
    "dtree = DecisionTreeRegressor(max_depth=8)\n",
    "dtr=dtree.fit(xtrain, ytrain).predict(xtest)\n",
    "print(r2_score(ytest,dtr))\n",
    "print('dtr accuracy')\n",
    "s4=cross_val_score(dtree,xtrain,ytrain,cv=10)\n",
    "print(s4.mean())\n",
    "p4=sns.lineplot(ytest,dtr)\n",
    "p4=sns.lineplot(ytest,ytest)\n"
   ]
  },
  {
   "cell_type": "code",
   "execution_count": 20,
   "metadata": {},
   "outputs": [
    {
     "name": "stdout",
     "output_type": "stream",
     "text": [
      "0.9235543438538173\n",
      "xgb accuracy\n",
      "0.9170536784420298\n"
     ]
    },
    {
     "data": {
      "image/png": "[encoded data removed]",
      "text/plain": [
       "<Figure size 432x288 with 1 Axes>"
      ]
     },
     "metadata": {
      "needs_background": "light"
     },
     "output_type": "display_data"
    }
   ],
   "source": [
    "xgb_model=xgb.XGBRegressor(objective='reg:linear',max_depth=8,random_state=42,silent=True)\n",
    "xgb_pred=xgb_model.fit(xtrain,ytrain).predict(xtest)\n",
    "print(r2_score(ytest,xgb_pred))\n",
    "print('xgb accuracy')\n",
    "s5=cross_val_score(xgb_model,xtrain,ytrain,cv=10)\n",
    "print(s5.mean())\n",
    "\n",
    "p5=sns.lineplot(ytest,xgb_pred)\n",
    "p5=sns.lineplot(ytest,ytest)"
   ]
  },
  {
   "cell_type": "code",
   "execution_count": 21,
   "metadata": {},
   "outputs": [
    {
     "data": {
      "text/plain": [
       "<matplotlib.legend.Legend at 0x29d2ba45748>"
      ]
     },
     "execution_count": 21,
     "metadata": {},
     "output_type": "execute_result"
    },
    {
     "data": {
      "image/png": "[encoded data removed]",
      "text/plain": [
       "<Figure size 432x288 with 1 Axes>"
      ]
     },
     "metadata": {
      "needs_background": "light"
     },
     "output_type": "display_data"
    }
   ],
   "source": [
    "v1=sns.lineplot(ytest,pred)\n",
    "v1=sns.lineplot(ytest,knn)\n",
    "v1=sns.lineplot(ytest,dtr)\n",
    "v1=sns.lineplot(ytest,svr)\n",
    "v1=sns.lineplot(ytest,xgb_pred)\n",
    "v1=sns.lineplot(ytest,ytest)\n",
    "v1.legend(['linreg','knn','dtree','svm','xgb','real'])"
   ]
  },
  {
   "cell_type": "code",
   "execution_count": null,
   "metadata": {},
   "outputs": [],
   "source": []
  },
  {
   "cell_type": "markdown",
   "metadata": {},
   "source": [
    "# testing by removing the null values"
   ]
  },
  {
   "cell_type": "code",
   "execution_count": 22,
   "metadata": {},
   "outputs": [
    {
     "data": {
      "text/plain": [
       "(1234, 11)"
      ]
     },
     "execution_count": 22,
     "metadata": {},
     "output_type": "execute_result"
    }
   ],
   "source": [
    "dt2=pd.read_excel(\"Data_test.xlsx\")\n",
    "\n",
    "dt2.shape"
   ]
  },
  {
   "cell_type": "code",
   "execution_count": 23,
   "metadata": {},
   "outputs": [],
   "source": [
    "temp = dt2[\"Name\"].str.split(\" \", n = 1, expand = True)\n",
    "dt2['Brand']=temp[0]\n",
    "dt2['Model']=temp[1]\n",
    "dt2['Engine']=dt2.Engine.str.split(\" \").str[0]\n",
    "dt2['Power']=dt2.Power.str.split(\" \").str[0]\n",
    "dt2['Mileage']=dt2.Mileage.str.split(\" \").str[0]\n",
    "dt2['Year']=np.subtract(2020,dt2['Year'])\n"
   ]
  },
  {
   "cell_type": "code",
   "execution_count": 24,
   "metadata": {},
   "outputs": [],
   "source": [
    "dt2['Power'].replace('null ',float('NaN'),inplace=True)\n",
    "dt2['Power'].replace('null',float('NaN'),inplace=True)\n",
    "dt2.dropna(subset=['Mileage','Power','Engine','Seats'],inplace=True)\n"
   ]
  },
  {
   "cell_type": "code",
   "execution_count": 25,
   "metadata": {},
   "outputs": [],
   "source": [
    "dt2.drop(columns=['Name'],inplace=True)"
   ]
  },
  {
   "cell_type": "code",
   "execution_count": 26,
   "metadata": {},
   "outputs": [],
   "source": [
    "dt2.dropna(how=\"all\",inplace=True)\n",
    "dt2['Power']=dt2['Power'].astype(float)\n",
    "dt2['Mileage']=dt2['Mileage'].astype(float)\n",
    "dt2['Engine']=dt2['Engine'].astype(float)\n",
    "dt2['Year']=dt2['Year'].astype(float)\n",
    "dt2['Kilometers_Driven']=dt2['Kilometers_Driven'].astype(float)\n"
   ]
  },
  {
   "cell_type": "code",
   "execution_count": 27,
   "metadata": {},
   "outputs": [
    {
     "data": {
      "text/html": [
       "<div>\n",
       "<style scoped>\n",
       "    .dataframe tbody tr th:only-of-type {\n",
       "        vertical-align: middle;\n",
       "    }\n",
       "\n",
       "    .dataframe tbody tr th {\n",
       "        vertical-align: top;\n",
       "    }\n",
       "\n",
       "    .dataframe thead th {\n",
       "        text-align: right;\n",
       "    }\n",
       "</style>\n",
       "<table border=\"1\" class=\"dataframe\">\n",
       "  <thead>\n",
       "    <tr style=\"text-align: right;\">\n",
       "      <th></th>\n",
       "      <th>Location</th>\n",
       "      <th>Year</th>\n",
       "      <th>Kilometers_Driven</th>\n",
       "      <th>Fuel_Type</th>\n",
       "      <th>Transmission</th>\n",
       "      <th>Owner_Type</th>\n",
       "      <th>Mileage</th>\n",
       "      <th>Engine</th>\n",
       "      <th>Power</th>\n",
       "      <th>Seats</th>\n",
       "      <th>Brand</th>\n",
       "      <th>Model</th>\n",
       "    </tr>\n",
       "  </thead>\n",
       "  <tbody>\n",
       "    <tr>\n",
       "      <th>0</th>\n",
       "      <td>4.0</td>\n",
       "      <td>6.0</td>\n",
       "      <td>40929.0</td>\n",
       "      <td>0.0</td>\n",
       "      <td>1.0</td>\n",
       "      <td>0.0</td>\n",
       "      <td>32.26</td>\n",
       "      <td>998.0</td>\n",
       "      <td>58.20</td>\n",
       "      <td>4.0</td>\n",
       "      <td>15.0</td>\n",
       "      <td>69.0</td>\n",
       "    </tr>\n",
       "    <tr>\n",
       "      <th>1</th>\n",
       "      <td>3.0</td>\n",
       "      <td>7.0</td>\n",
       "      <td>54493.0</td>\n",
       "      <td>3.0</td>\n",
       "      <td>1.0</td>\n",
       "      <td>2.0</td>\n",
       "      <td>24.70</td>\n",
       "      <td>796.0</td>\n",
       "      <td>47.30</td>\n",
       "      <td>5.0</td>\n",
       "      <td>15.0</td>\n",
       "      <td>64.0</td>\n",
       "    </tr>\n",
       "    <tr>\n",
       "      <th>2</th>\n",
       "      <td>9.0</td>\n",
       "      <td>3.0</td>\n",
       "      <td>34000.0</td>\n",
       "      <td>1.0</td>\n",
       "      <td>1.0</td>\n",
       "      <td>0.0</td>\n",
       "      <td>13.68</td>\n",
       "      <td>2393.0</td>\n",
       "      <td>147.80</td>\n",
       "      <td>7.0</td>\n",
       "      <td>25.0</td>\n",
       "      <td>389.0</td>\n",
       "    </tr>\n",
       "    <tr>\n",
       "      <th>4</th>\n",
       "      <td>9.0</td>\n",
       "      <td>6.0</td>\n",
       "      <td>29000.0</td>\n",
       "      <td>3.0</td>\n",
       "      <td>1.0</td>\n",
       "      <td>0.0</td>\n",
       "      <td>18.50</td>\n",
       "      <td>1197.0</td>\n",
       "      <td>82.85</td>\n",
       "      <td>5.0</td>\n",
       "      <td>8.0</td>\n",
       "      <td>737.0</td>\n",
       "    </tr>\n",
       "    <tr>\n",
       "      <th>5</th>\n",
       "      <td>3.0</td>\n",
       "      <td>4.0</td>\n",
       "      <td>85609.0</td>\n",
       "      <td>1.0</td>\n",
       "      <td>1.0</td>\n",
       "      <td>2.0</td>\n",
       "      <td>16.00</td>\n",
       "      <td>2179.0</td>\n",
       "      <td>140.00</td>\n",
       "      <td>7.0</td>\n",
       "      <td>14.0</td>\n",
       "      <td>681.0</td>\n",
       "    </tr>\n",
       "  </tbody>\n",
       "</table>\n",
       "</div>"
      ],
      "text/plain": [
       "   Location  Year  Kilometers_Driven  Fuel_Type  Transmission  Owner_Type  \\\n",
       "0       4.0   6.0            40929.0        0.0           1.0         0.0   \n",
       "1       3.0   7.0            54493.0        3.0           1.0         2.0   \n",
       "2       9.0   3.0            34000.0        1.0           1.0         0.0   \n",
       "4       9.0   6.0            29000.0        3.0           1.0         0.0   \n",
       "5       3.0   4.0            85609.0        1.0           1.0         2.0   \n",
       "\n",
       "   Mileage  Engine   Power  Seats  Brand  Model  \n",
       "0    32.26   998.0   58.20    4.0   15.0   69.0  \n",
       "1    24.70   796.0   47.30    5.0   15.0   64.0  \n",
       "2    13.68  2393.0  147.80    7.0   25.0  389.0  \n",
       "4    18.50  1197.0   82.85    5.0    8.0  737.0  \n",
       "5    16.00  2179.0  140.00    7.0   14.0  681.0  "
      ]
     },
     "execution_count": 27,
     "metadata": {},
     "output_type": "execute_result"
    }
   ],
   "source": [
    "dt2['Brand']=le.fit_transform(dt2['Brand']).astype(float)\n",
    "dt2['Location']=le.fit_transform(dt2['Location']).astype(float)\n",
    "dt2['Fuel_Type']=le.fit_transform(dt2['Fuel_Type']).astype(float)\n",
    "dt2['Transmission']=le.fit_transform(dt2['Transmission']).astype(float)\n",
    "dt2['Owner_Type']=le.fit_transform(dt2['Owner_Type']).astype(float)\n",
    "dt2['Model']=le.fit_transform(dt2['Model']).astype(float)\n",
    "dt2['Engine']=dt2['Engine'].astype(float)\n",
    "dt2['Power']=dt2['Power'].astype(float)\n",
    "#dt2.drop('Mileage',axis=1,inplace=True)\n",
    "#dt2.drop('Name',axis=1,inplace=True)\n",
    "dt2.head()"
   ]
  },
  {
   "cell_type": "code",
   "execution_count": 28,
   "metadata": {},
   "outputs": [],
   "source": [
    "data2=pd.DataFrame(rbst.fit_transform(dt2),columns=col)"
   ]
  },
  {
   "cell_type": "code",
   "execution_count": 29,
   "metadata": {
    "scrolled": true
   },
   "outputs": [
    {
     "name": "stdout",
     "output_type": "stream",
     "text": [
      "              0\n",
      "0      2.690385\n",
      "1      3.649736\n",
      "2     23.191803\n",
      "3      4.623459\n",
      "4     12.809004\n",
      "5     21.300453\n",
      "6      2.572111\n",
      "7      4.638428\n",
      "8     12.151860\n",
      "9     16.820024\n",
      "10     5.640015\n",
      "11     4.350275\n",
      "12     3.431087\n",
      "13     5.657488\n",
      "14    28.943834\n",
      "15    20.539238\n",
      "16     1.958132\n",
      "17     7.537544\n",
      "18     5.481393\n",
      "19     4.192457\n",
      "20     2.585667\n",
      "21     3.186174\n",
      "22     6.631960\n",
      "23     1.056230\n",
      "24     1.258863\n",
      "25     6.051218\n",
      "26     7.939599\n",
      "27     3.268594\n",
      "28     4.009590\n",
      "29     5.617216\n",
      "...         ...\n",
      "1171   8.530763\n",
      "1172   3.942242\n",
      "1173   5.028341\n",
      "1174   3.472070\n",
      "1175   1.897783\n",
      "1176   4.387584\n",
      "1177   4.808243\n",
      "1178   4.716455\n",
      "1179   8.942161\n",
      "1180  17.526148\n",
      "1181  26.389801\n",
      "1182   5.944192\n",
      "1183   8.168552\n",
      "1184   6.872541\n",
      "1185   3.433001\n",
      "1186  15.248450\n",
      "1187   4.912250\n",
      "1188   7.552404\n",
      "1189   9.850347\n",
      "1190   3.775916\n",
      "1191   4.951978\n",
      "1192   1.499634\n",
      "1193   4.821045\n",
      "1194   6.831958\n",
      "1195   3.570668\n",
      "1196   6.118727\n",
      "1197   7.741632\n",
      "1198   3.077504\n",
      "1199   7.989368\n",
      "1200  22.498987\n",
      "\n",
      "[1201 rows x 1 columns]\n"
     ]
    }
   ],
   "source": [
    "predicted=pd.DataFrame(xgb_model.predict(data2))\n",
    "print(predicted)"
   ]
  },
  {
   "cell_type": "code",
   "execution_count": 30,
   "metadata": {},
   "outputs": [],
   "source": [
    "predicted.to_excel (r'C:\\Users\\Pratvi\\Desktop\\predicted_ans2.xlsx', index = True, header=True)"
   ]
  },
  {
   "cell_type": "code",
   "execution_count": 31,
   "metadata": {},
   "outputs": [
    {
     "data": {
      "text/plain": [
       "<matplotlib.axes._subplots.AxesSubplot at 0x29d304a1438>"
      ]
     },
     "execution_count": 31,
     "metadata": {},
     "output_type": "execute_result"
    },
    {
     "data": {
      "image/png": "[encoded data removed]",
      "text/plain": [
       "<Figure size 432x288 with 1 Axes>"
      ]
     },
     "metadata": {
      "needs_background": "light"
     },
     "output_type": "display_data"
    }
   ],
   "source": [
    "sns.boxplot(predicted)"
   ]
  },
  {
   "cell_type": "code",
   "execution_count": null,
   "metadata": {},
   "outputs": [],
   "source": []
  }
 ],
 "metadata": {
  "kernelspec": {
   "display_name": "Python 3",
   "language": "python",
   "name": "python3"
  },
  "language_info": {
   "codemirror_mode": {
    "name": "ipython",
    "version": 3
   },
   "file_extension": ".py",
   "mimetype": "text/x-python",
   "name": "python",
   "nbconvert_exporter": "python",
   "pygments_lexer": "ipython3",
   "version": "3.7.4"
  }
 },
 "nbformat": 4,
 "nbformat_minor": 2
}
